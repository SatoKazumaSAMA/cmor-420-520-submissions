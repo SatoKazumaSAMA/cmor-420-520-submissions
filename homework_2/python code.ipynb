{
 "cells": [
  {
   "cell_type": "code",
   "execution_count": 2,
   "id": "a93c339e-7dcc-4b2e-90a9-b39a7095634e",
   "metadata": {},
   "outputs": [
    {
     "name": "stdout",
     "output_type": "stream",
     "text": [
      "Timings: [0.4928891658782959, 1.9841763973236084, 4.650738477706909, 7.5337560176849365]\n"
     ]
    }
   ],
   "source": [
    "import numpy as np\n",
    "import time\n",
    "\n",
    "def matvec(matrix, vector):\n",
    "    rows = matrix.shape[0]\n",
    "    cols = matrix.shape[1]\n",
    "    result = np.zeros(rows)\n",
    "\n",
    "    for i in range(rows):\n",
    "        for j in range(cols):\n",
    "            result[i] += matrix[i, j] * vector[j]\n",
    "\n",
    "    return result\n",
    "\n",
    "# Test the function with different matrix sizes and time each operation\n",
    "sizes = [1000, 2000, 3000, 4000]\n",
    "timings = []\n",
    "\n",
    "for n in sizes:\n",
    "    matrix = np.random.rand(n, n)\n",
    "    vector = np.random.rand(n)\n",
    "\n",
    "    start_time = time.time()\n",
    "    result = matvec(matrix, vector)\n",
    "    end_time = time.time()\n",
    "\n",
    "    timings.append(end_time - start_time)\n",
    "\n",
    "print(\"Timings:\", timings)\n"
   ]
  },
  {
   "cell_type": "code",
   "execution_count": null,
   "id": "86e1402f-1cb6-450d-bbc5-5895442ca61b",
   "metadata": {},
   "outputs": [],
   "source": []
  }
 ],
 "metadata": {
  "kernelspec": {
   "display_name": "anaconda-2022.05-py39",
   "language": "python",
   "name": "conda-env-anaconda-2022.05-py39-py"
  },
  "language_info": {
   "codemirror_mode": {
    "name": "ipython",
    "version": 3
   },
   "file_extension": ".py",
   "mimetype": "text/x-python",
   "name": "python",
   "nbconvert_exporter": "python",
   "pygments_lexer": "ipython3",
   "version": "3.9.12"
  }
 },
 "nbformat": 4,
 "nbformat_minor": 5
}
